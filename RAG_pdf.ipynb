{
 "cells": [
  {
   "cell_type": "code",
   "execution_count": 44,
   "outputs": [],
   "source": [
    "# imports\n",
    "from langchain.vectorstores.cassandra import Cassandra\n",
    "from langchain.indexes.vectorstore import VectorStoreIndexWrapper\n",
    "from langchain.llms import OpenAI\n",
    "from langchain_openai import OpenAIEmbeddings\n",
    "from langchain.text_splitter import CharacterTextSplitter\n",
    "\n",
    "import cassio\n",
    "\n",
    "from PyPDF2 import PdfReader"
   ],
   "metadata": {
    "collapsed": false,
    "ExecuteTime": {
     "end_time": "2024-09-22T11:20:18.936279Z",
     "start_time": "2024-09-22T11:20:18.931062Z"
    }
   }
  },
  {
   "cell_type": "code",
   "execution_count": 70,
   "outputs": [],
   "source": [
    "# Read pdf\n",
    "pdfreader = PdfReader('constitution.pdf')\n",
    "\n",
    "raw_text = ''\n",
    "for i, page in enumerate(pdfreader.pages):\n",
    "    content = page.extract_text()\n",
    "    if content:\n",
    "        raw_text += content"
   ],
   "metadata": {
    "collapsed": false,
    "ExecuteTime": {
     "end_time": "2024-09-22T11:56:51.289373Z",
     "start_time": "2024-09-22T11:56:51.267453Z"
    }
   }
  },
  {
   "cell_type": "code",
   "execution_count": 69,
   "outputs": [
    {
     "data": {
      "text/plain": "' CONSTITUTION OF INDIA\\n[As on 1stMay, 2024] \\n2024\\nGOVERNMENT OF INDIA\\nMINISTRY OF LAW AND JUSTICE\\nLEGISLATIVE DEPARTMENT, OFFICIAL LANGUAGES WINGPREFACE\\nThis is'"
     },
     "execution_count": 69,
     "metadata": {},
     "output_type": "execute_result"
    }
   ],
   "source": [
    "raw_text[40:200]"
   ],
   "metadata": {
    "collapsed": false,
    "ExecuteTime": {
     "end_time": "2024-09-22T11:56:29.486667Z",
     "start_time": "2024-09-22T11:56:29.476737Z"
    }
   }
  },
  {
   "cell_type": "code",
   "execution_count": 50,
   "outputs": [],
   "source": [
    "ASTRA_DB_APPLICATION_TOKEN = \"Astra_db_token\"\n",
    "ASTRA_DB_ID = \"Astra_db_id\"\n",
    "OPENAI_API_KEY = \"openai_api_key\""
   ],
   "metadata": {
    "collapsed": false,
    "ExecuteTime": {
     "end_time": "2024-09-22T11:28:41.691268Z",
     "start_time": "2024-09-22T11:28:41.556794Z"
    }
   }
  },
  {
   "cell_type": "code",
   "execution_count": 51,
   "outputs": [],
   "source": [
    "# Initialize connection to database\n",
    "cassio.init(token=ASTRA_DB_APPLICATION_TOKEN, database_id=ASTRA_DB_ID)"
   ],
   "metadata": {
    "collapsed": false,
    "ExecuteTime": {
     "end_time": "2024-09-22T11:28:47.906776Z",
     "start_time": "2024-09-22T11:28:41.557240Z"
    }
   }
  },
  {
   "cell_type": "code",
   "execution_count": 52,
   "outputs": [],
   "source": [
    "llm = OpenAI(\n",
    "    api_key=OPENAI_API_KEY\n",
    ")\n",
    "embedding = OpenAIEmbeddings(openai_api_key=OPENAI_API_KEY)"
   ],
   "metadata": {
    "collapsed": false,
    "ExecuteTime": {
     "end_time": "2024-09-22T11:28:48.117848Z",
     "start_time": "2024-09-22T11:28:47.920369Z"
    }
   }
  },
  {
   "cell_type": "code",
   "execution_count": 53,
   "outputs": [],
   "source": [
    "# Create vector store\n",
    "\n",
    "astra_vector_store = Cassandra(\n",
    "    embedding=embedding,\n",
    "    table_name=\"rag_constitution\",\n",
    "    session=None,\n",
    "    keyspace=None,\n",
    ")"
   ],
   "metadata": {
    "collapsed": false,
    "ExecuteTime": {
     "end_time": "2024-09-22T11:29:09.440462Z",
     "start_time": "2024-09-22T11:29:05.964475Z"
    }
   }
  },
  {
   "cell_type": "code",
   "execution_count": 54,
   "outputs": [],
   "source": [
    "text_splitter = CharacterTextSplitter(\n",
    "    separator = \"\\n\",\n",
    "    chunk_size = 800,\n",
    "    chunk_overlap  = 200,\n",
    "    length_function = len,\n",
    ")\n",
    "texts = text_splitter.split_text(raw_text)"
   ],
   "metadata": {
    "collapsed": false,
    "ExecuteTime": {
     "end_time": "2024-09-22T11:29:09.450721Z",
     "start_time": "2024-09-22T11:29:09.437776Z"
    }
   }
  },
  {
   "cell_type": "code",
   "execution_count": 56,
   "outputs": [
    {
     "data": {
      "text/plain": "1443"
     },
     "execution_count": 56,
     "metadata": {},
     "output_type": "execute_result"
    }
   ],
   "source": [
    "len(texts)"
   ],
   "metadata": {
    "collapsed": false,
    "ExecuteTime": {
     "end_time": "2024-09-22T11:31:48.334544Z",
     "start_time": "2024-09-22T11:31:48.321544Z"
    }
   }
  },
  {
   "cell_type": "code",
   "execution_count": null,
   "outputs": [],
   "source": [
    "# Load data in vector store\n",
    "astra_vector_store.add_texts(texts[:200])\n",
    "astra_vector_index = VectorStoreIndexWrapper(vectorstore=astra_vector_store)"
   ],
   "metadata": {
    "collapsed": false
   }
  },
  {
   "cell_type": "code",
   "execution_count": 64,
   "outputs": [
    {
     "name": "stdout",
     "output_type": "stream",
     "text": [
      "\n",
      "QUESTION: \"What are the fundamental rights of Indians?\"\n",
      "\n",
      "ANSWER: \"The fundamental rights of Indians include the right to equality before law, prohibition of discrimination on grounds of religion, race, caste, sex, or place of birth, equality of opportunity in public employment, abolition of untouchability, and abolition of titles. Additionally, citizens have the right to freedom of speech and expression, to assemble peacefully and without arms, to form associations and unions, to move freely throughout the territory of India, to reside and settle in any part of the country, and to practice any profession or carry on any occupation, trade or business.\"\n",
      "\n",
      "FIRST DOCUMENTS BY RELEVANCE:\n",
      "    [Relevance Score: 0.9396] \"FUNDAMENTAL RIGHTS\n",
      "General\n",
      "12. Definition .—In this Part, unless the context otherwise requires, “th...\"\n",
      "\n",
      "    [Relevance Score: 0.9359] \"51A. Fundamental duties. —It shall be the duty of every citizen of \n",
      "India—\n",
      "(a) to abide by the Const...\"\n",
      "\n",
      "    [Relevance Score: 0.9345] \"19. Protection of certain rights regarding freedom of speech, etc. —\n",
      "(1) All citizens shall have the...\"\n",
      "\n",
      "    [Relevance Score: 0.9307] \"India from Pakistan.\n",
      "7. Rights of citizenship of certain migrants to Pakistan.\n",
      "8. Rights of citizens...\"\n",
      "\n"
     ]
    }
   ],
   "source": [
    "first_question = True\n",
    "while True:\n",
    "    if first_question:\n",
    "        query_text = input(\"\\nEnter your question (or type 'quit' to exit): \").strip()\n",
    "    else:\n",
    "        query_text = input(\"\\nWhat's your next question (or type 'quit' to exit): \").strip()\n",
    "\n",
    "    if query_text.lower() == \"quit\":\n",
    "        break\n",
    "\n",
    "    if query_text == \"\":\n",
    "        continue\n",
    "\n",
    "    first_question = False\n",
    "\n",
    "    print(f\"\\nQUESTION: \\\"{query_text}\\\"\\n\")\n",
    "\n",
    "    answer = astra_vector_index.query(query_text, llm=llm).strip()\n",
    "    print(f\"ANSWER: \\\"{answer}\\\"\\n\")\n",
    "\n",
    "    print(\"FIRST DOCUMENTS BY RELEVANCE:\")\n",
    "    for doc, score in astra_vector_store.similarity_search_with_score(query_text, k=4):\n",
    "        doc_preview = doc.page_content[:100] + ('...' if len(doc.page_content) > 100 else '')\n",
    "        print(f\"    [Relevance Score: {score:.4f}] \\\"{doc_preview}\\\"\\n\")"
   ],
   "metadata": {
    "collapsed": false,
    "ExecuteTime": {
     "end_time": "2024-09-22T11:55:10.983310Z",
     "start_time": "2024-09-22T11:55:00.480500Z"
    }
   }
  },
  {
   "cell_type": "code",
   "execution_count": null,
   "outputs": [],
   "source": [],
   "metadata": {
    "collapsed": false
   }
  }
 ],
 "metadata": {
  "kernelspec": {
   "display_name": "Python 3",
   "language": "python",
   "name": "python3"
  },
  "language_info": {
   "codemirror_mode": {
    "name": "ipython",
    "version": 2
   },
   "file_extension": ".py",
   "mimetype": "text/x-python",
   "name": "python",
   "nbconvert_exporter": "python",
   "pygments_lexer": "ipython2",
   "version": "2.7.6"
  }
 },
 "nbformat": 4,
 "nbformat_minor": 0
}
